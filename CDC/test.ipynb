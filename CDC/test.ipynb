{
 "cells": [
  {
   "cell_type": "code",
   "execution_count": null,
   "id": "fbfa794c",
   "metadata": {},
   "outputs": [],
   "source": [
    "from sqlalchemy import create_engine, text, Engine\n",
    "from urllib.parse import quote_plus\n",
    "import polars\n",
    "from fastavro import writer, parse_schema\n"
   ]
  },
  {
   "cell_type": "markdown",
   "id": "4daa1d66",
   "metadata": {},
   "source": [
    "## Connection"
   ]
  },
  {
   "cell_type": "code",
   "execution_count": 41,
   "id": "3ff5f802",
   "metadata": {},
   "outputs": [],
   "source": [
    "params = {\n",
    "    \"database\": \"postgresql\",\n",
    "    \"istance_name\": \"meteo\",\n",
    "    \"host\": \"localhost\",\n",
    "    \"port\": 5433,\n",
    "    \"user\": \"meteo\",\n",
    "    \"password\": \"meteo\",\n",
    "    \"ssl_args\": {}\n",
    "} "
   ]
  },
  {
   "cell_type": "code",
   "execution_count": 35,
   "id": "83d78c94",
   "metadata": {},
   "outputs": [],
   "source": [
    "def source_conn(\n",
    "    database: str,\n",
    "    user: str,\n",
    "    password: str,\n",
    "    host: str,\n",
    "    port: int,\n",
    "    istance_name: str,\n",
    "    cx_oracle: bool = False,\n",
    "    ssl_args: dict | None = None,\n",
    "    mssql_driver: str = \"ODBC Driver 17 for SQL Server\"\n",
    ") -> Engine:\n",
    "    \n",
    "    \"\"\"\n",
    "    Create a SQLAlchemy engine for multiple database types.\n",
    "    Supported: PostgreSQL, MySQL/MariaDB, Oracle, SQL Server\n",
    "    \"\"\"\n",
    "\n",
    "    ssl_args = ssl_args or {}\n",
    "    db_url = None\n",
    "\n",
    "    # PostgreSQL\n",
    "    if database.lower() in ('postgresql', 'pg', 'postgres', 'postgre'):\n",
    "        db_url = f\"postgresql+psycopg2://{user}:{password}@{host}:{port}/{istance_name}\"\n",
    "\n",
    "    # MariaDB / MySQL\n",
    "    elif database.lower() in ('mariadb', 'mysql'):\n",
    "        db_url = f\"{database.lower()}+pymysql://{user}:{password}@{host}:{port}/{istance_name}\"\n",
    "\n",
    "    # Oracle\n",
    "    elif database.lower() == 'oracle':\n",
    "        py_module = 'oracledb' if not cx_oracle else 'cx_oracle'\n",
    "        db_url = f\"oracle+{py_module}://{user}:{password}@{host}:{port}/{istance_name}\"\n",
    "\n",
    "    # SQL Server\n",
    "    elif database.lower() in ('mssql', 'ms-sql', 'sqlserver', 'sql server'):\n",
    "        conn_str = (\n",
    "            f\"DRIVER={{{mssql_driver}}};\"\n",
    "            f\"SERVER={host},{port};DATABASE={istance_name};UID={user};PWD={password}\"\n",
    "        )\n",
    "        params = quote_plus(conn_str)\n",
    "        db_url = f\"mssql+pyodbc:///?odbc_connect={params}\"\n",
    "\n",
    "    else:\n",
    "        raise ValueError(f\"Unsupported database type: {database}\")\n",
    "\n",
    "    engine = create_engine(db_url, connect_args=ssl_args)\n",
    "\n",
    "    return engine\n"
   ]
  },
  {
   "cell_type": "code",
   "execution_count": null,
   "id": "dc6b1f64",
   "metadata": {},
   "outputs": [],
   "source": [
    "eng = source_conn(**params)\n",
    "conn = eng.connect()"
   ]
  },
  {
   "cell_type": "markdown",
   "id": "8ce89600",
   "metadata": {},
   "source": [
    "# Queries Templates"
   ]
  },
  {
   "cell_type": "code",
   "execution_count": null,
   "id": "299dfe06",
   "metadata": {},
   "outputs": [],
   "source": []
  },
  {
   "cell_type": "markdown",
   "id": "4b87865b",
   "metadata": {},
   "source": [
    "# wath out for avro schema\n",
    "\n",
    "https://hackolade.com/help/Avroschema.html"
   ]
  },
  {
   "cell_type": "markdown",
   "id": "2ed6967a",
   "metadata": {},
   "source": [
    "https://chatgpt.com/share/68e15494-c200-8009-9e00-e2b12d40aa42"
   ]
  },
  {
   "cell_type": "code",
   "execution_count": null,
   "id": "2eac45bc",
   "metadata": {},
   "outputs": [],
   "source": [
    "import os\n",
    "\n",
    "# --- Configuration ---\n",
    "QUERY = text(\"SELECT * FROM public.fct_meteo;\")\n",
    "QUERY_SCHEMA = \n",
    "OUTPUT_DIR = \"avro_output\"\n",
    "OUTPUT_FILE = \"fct_meteo.avro\"\n",
    "\n",
    "os.makedirs(OUTPUT_DIR, exist_ok=True)"
   ]
  },
  {
   "cell_type": "code",
   "execution_count": null,
   "id": "f7a65811",
   "metadata": {},
   "outputs": [],
   "source": [
    "# --- Define Avro schema ---\n",
    "# IMPORTANT: Adapt the schema fields to match your DB table columns and types!\n",
    "# Here is a simple example with two columns; extend as needed.\n",
    "\n",
    "avro_schema = {\n",
    "    \"doc\": \"fct_meteo table schema\",\n",
    "    \"name\": \"fct_meteo_record\",\n",
    "    \"namespace\": \"example.avro\",\n",
    "    \"type\": \"record\",\n",
    "    \"fields\": [\n",
    "        {\"name\": \"column1\", \"type\": \"string\"},\n",
    "        {\"name\": \"column2\", \"type\": \"int\"},\n",
    "        # Add all your columns here\n",
    "    ],\n",
    "}\n",
    "\n",
    "parsed_schema = parse_schema(avro_schema)\n",
    "\n",
    "# --- Streaming query and write Avro ---\n",
    "with engine.connect() as conn:\n",
    "    result = conn.execution_options(stream_results=True).execute(QUERY)\n",
    "    columns = result.keys()\n",
    "\n",
    "    # Open Avro file writer\n",
    "    output_path = os.path.join(OUTPUT_DIR, OUTPUT_FILE)\n",
    "    with open(output_path, \"wb\") as out_file:\n",
    "        avro_writer = writer(out_file, parsed_schema)\n",
    "\n",
    "        # Stream rows and write one-by-one\n",
    "        for row in result:\n",
    "            record = {}\n",
    "            for col_name, value in zip(columns, row):\n",
    "                # If your schema expects non-nullable fields, handle nulls here if needed\n",
    "                record[col_name] = value\n",
    "            avro_writer.write(record)\n",
    "\n",
    "print(f\"Avro file written: {output_path}\")\n"
   ]
  }
 ],
 "metadata": {
  "kernelspec": {
   "display_name": ".venv",
   "language": "python",
   "name": "python3"
  },
  "language_info": {
   "codemirror_mode": {
    "name": "ipython",
    "version": 3
   },
   "file_extension": ".py",
   "mimetype": "text/x-python",
   "name": "python",
   "nbconvert_exporter": "python",
   "pygments_lexer": "ipython3",
   "version": "3.12.6"
  }
 },
 "nbformat": 4,
 "nbformat_minor": 5
}
